{
  "nbformat": 4,
  "nbformat_minor": 0,
  "metadata": {
    "colab": {
      "name": "PyGad_Gram_Evo.ipynb",
      "provenance": [],
      "collapsed_sections": [],
      "authorship_tag": "ABX9TyOIBO6CS6+J/dr/gWJEQHCe",
      "include_colab_link": true
    },
    "kernelspec": {
      "name": "python3",
      "display_name": "Python 3"
    },
    "language_info": {
      "name": "python"
    }
  },
  "cells": [
    {
      "cell_type": "markdown",
      "metadata": {
        "id": "view-in-github",
        "colab_type": "text"
      },
      "source": [
        "<a href=\"https://colab.research.google.com/github/danadler-dev/pygad_grammatical_evo/blob/main/PyGad_Gram_Evo.ipynb\" target=\"_parent\"><img src=\"https://colab.research.google.com/assets/colab-badge.svg\" alt=\"Open In Colab\"/></a>"
      ]
    },
    {
      "cell_type": "code",
      "source": [
        "!pip3 install pygad\n",
        "!pip3 install nltk\n",
        "from nltk import CFG\n",
        "import nltk.grammar as GRM\n",
        "from collections import defaultdict\n",
        "import pygad\n",
        "import numpy\n",
        "import matplotlib.pyplot as plt"
      ],
      "metadata": {
        "colab": {
          "base_uri": "https://localhost:8080/"
        },
        "id": "L6QoRbFntZno",
        "outputId": "5f23140b-6ad1-4049-f7b7-a53e3fc3cecc"
      },
      "execution_count": 77,
      "outputs": [
        {
          "output_type": "stream",
          "name": "stdout",
          "text": [
            "Requirement already satisfied: pygad in /usr/local/lib/python3.7/dist-packages (2.16.1)\n",
            "Requirement already satisfied: numpy in /usr/local/lib/python3.7/dist-packages (from pygad) (1.19.5)\n",
            "Requirement already satisfied: matplotlib in /usr/local/lib/python3.7/dist-packages (from pygad) (3.2.2)\n",
            "Requirement already satisfied: pyparsing!=2.0.4,!=2.1.2,!=2.1.6,>=2.0.1 in /usr/local/lib/python3.7/dist-packages (from matplotlib->pygad) (3.0.6)\n",
            "Requirement already satisfied: python-dateutil>=2.1 in /usr/local/lib/python3.7/dist-packages (from matplotlib->pygad) (2.8.2)\n",
            "Requirement already satisfied: cycler>=0.10 in /usr/local/lib/python3.7/dist-packages (from matplotlib->pygad) (0.11.0)\n",
            "Requirement already satisfied: kiwisolver>=1.0.1 in /usr/local/lib/python3.7/dist-packages (from matplotlib->pygad) (1.3.2)\n",
            "Requirement already satisfied: six>=1.5 in /usr/local/lib/python3.7/dist-packages (from python-dateutil>=2.1->matplotlib->pygad) (1.15.0)\n",
            "Requirement already satisfied: nltk in /usr/local/lib/python3.7/dist-packages (3.2.5)\n",
            "Requirement already satisfied: six in /usr/local/lib/python3.7/dist-packages (from nltk) (1.15.0)\n"
          ]
        }
      ]
    },
    {
      "cell_type": "code",
      "source": [
        "\"\"\"\n",
        "Use nltk's BNF parser into dict such that:\n",
        "dict[non terminal symbol] = [list of productions]\n",
        "\"\"\"\n",
        "def parse_BNF(s):\n",
        "  grammar = CFG.fromstring(s)\n",
        "  g_dict = defaultdict(list)\n",
        "  for p in grammar.productions():\n",
        "    g_dict[p.lhs().symbol()].append(p.rhs())\n",
        "  return g_dict"
      ],
      "metadata": {
        "id": "VTd_z-AXA9ld"
      },
      "execution_count": 78,
      "outputs": []
    },
    {
      "cell_type": "markdown",
      "source": [
        "Example from [Genetic Programming - Koza](https://mitpress.mit.edu/books/genetic-programming) ch. 7, and from [Grammatical Evolution - O'neil & Ryan](https://link.springer.com/chapter/10.1007/978-1-4615-0447-4_4):\n"
      ],
      "metadata": {
        "id": "XS7LpHl-HrtX"
      }
    },
    {
      "cell_type": "code",
      "source": [
        "\"\"\"\n",
        "    y = pow(x,4) + pow(x,3) + pow(x,2) + x\n",
        "    Evaluated on [-10,10]\n",
        "\"\"\"\n",
        "tgt_expr = 'pow(x,4) + pow(x,3) + pow(x,2) + x'\n",
        "rng = range(-10, 10)\n",
        "tgt = numpy.array([eval(tgt_expr) for x in rng])\n",
        "plt.plot(rng, tgt)\n"
      ],
      "metadata": {
        "id": "Of-uhfQ-tecW",
        "colab": {
          "base_uri": "https://localhost:8080/",
          "height": 282
        },
        "outputId": "75bca7bf-3558-4aa4-e135-1039dfc7fdcf"
      },
      "execution_count": 79,
      "outputs": [
        {
          "output_type": "execute_result",
          "data": {
            "text/plain": [
              "[<matplotlib.lines.Line2D at 0x7fc1f72d93d0>]"
            ]
          },
          "metadata": {},
          "execution_count": 79
        },
        {
          "output_type": "display_data",
          "data": {
            "image/png": "[encoded data removed]",
            "text/plain": [
              "<Figure size 432x288 with 1 Axes>"
            ]
          },
          "metadata": {
            "needs_background": "light"
          }
        }
      ]
    },
    {
      "cell_type": "markdown",
      "source": [
        "[Grammatical Evolution](https://link.springer.com/chapter/10.1007/978-1-4615-0447-4_4) is a form of Genetic Programming that takes a BNF grammar as an input and generates expressions from that grammar. The genes are a vector of integers. The generator takes each integer in the gene, and uses it to index into the number of productions available (start is the top level production). It uses modulo to wrap around in case or too few/many.\n"
      ],
      "metadata": {
        "id": "RZGH-yKjGJF3"
      }
    },
    {
      "cell_type": "code",
      "source": [
        "\"\"\"\n",
        "Generate a legal expression from the grammar (represented by g_dict)\n",
        "based on the number of genes passed in.\n",
        "\"\"\"\n",
        "def gen_from_vec(g_dict, start, vec, n=0, max_depth=100):\n",
        "  if n > max_depth:\n",
        "    #print('max depth exceeded:', start)\n",
        "    return '0.0'\n",
        "  s = g_dict[start]\n",
        "  c = vec[n % len(vec)] # which index\n",
        "  v = s[c % len(s)] # choice is based on index value mod num choices\n",
        "  #print('gen ', start, n, c, v)\n",
        "  w = list(v)\n",
        "  for i in range(len(w)):\n",
        "    n = n+1\n",
        "    if GRM.is_nonterminal(w[i]):\n",
        "      w[i] = gen_from_vec(g_dict, w[i].symbol(), vec, n=n)\n",
        "  return ''.join(w)"
      ],
      "metadata": {
        "id": "X3akjam_Eesn"
      },
      "execution_count": 80,
      "outputs": []
    },
    {
      "cell_type": "code",
      "source": [
        "bnf = \"\"\"op -> \"+\"\n",
        "  expr -> expr op term | term\n",
        "  term ->  \"pow(\" var \",\" num \")\" | var\n",
        "  num -> \"0\" | \"1\" | \"2\" | \"3\" | \"4\" | \"5\" | \"6\" | \"7\" | \"8\" | \"9\"\n",
        "  var -> \"x\" \"\"\"\n",
        "\n",
        "g_dict = parse_BNF(bnf)"
      ],
      "metadata": {
        "id": "r_x3CY6FLeVp"
      },
      "execution_count": 81,
      "outputs": []
    },
    {
      "cell_type": "markdown",
      "source": [
        "The fitness function takes a vector of integers, generates an expression from it, and calculates the fitness as one over the MSE compared to the target evaluated on the same range."
      ],
      "metadata": {
        "id": "aVgYl1bHIeyX"
      }
    },
    {
      "cell_type": "code",
      "source": [
        "def fitness_func(solution, solution_idx):\n",
        "  r = gen_from_vec(g_dict, \"expr\", solution)\n",
        "  try:\n",
        "    res = numpy.array([eval(r) for x in rng])\n",
        "  except SyntaxError:\n",
        "    res = [0 for x in rng]\n",
        "  fitness = 1.0 / numpy.mean(numpy.square(res - tgt) + 0.000001)\n",
        "  return fitness"
      ],
      "metadata": {
        "id": "E-9s-nktIdHm"
      },
      "execution_count": 82,
      "outputs": []
    },
    {
      "cell_type": "code",
      "source": [
        "num_generations = 100 # Number of generations.\n",
        "num_parents_mating = 20 # Number of solutions to be selected as parents in the mating pool.\n",
        "sol_per_pop = 500 # Number of solutions in the population.\n",
        "num_genes = 10 # length of vec passed into solution generator - to allow deep expressions\n",
        "last_fitness = 0"
      ],
      "metadata": {
        "id": "-NV6yuI0CYEV"
      },
      "execution_count": 83,
      "outputs": []
    },
    {
      "cell_type": "code",
      "execution_count": 85,
      "metadata": {
        "colab": {
          "base_uri": "https://localhost:8080/",
          "height": 826
        },
        "id": "EssXed6WkMTT",
        "outputId": "7ea52f6b-a7cf-47d1-a15c-b1a401cca9e9"
      },
      "outputs": [
        {
          "output_type": "stream",
          "name": "stdout",
          "text": [
            "Generation = 25\n",
            "Fitness    = 0.24999993750001567\n",
            "Change     = 0.18749994140626544\n",
            "Generation = 50\n",
            "Fitness    = 0.24999993750001567\n",
            "Change     = 0.0\n",
            "Generation = 75\n",
            "Fitness    = 0.24999993750001567\n",
            "Change     = 0.0\n",
            "Generation = 100\n",
            "Fitness    = 0.24999993750001567\n",
            "Change     = 0.0\n"
          ]
        },
        {
          "output_type": "display_data",
          "data": {
            "image/png": "[encoded data removed]",
            "text/plain": [
              "<Figure size 432x288 with 1 Axes>"
            ]
          },
          "metadata": {
            "needs_background": "light"
          }
        },
        {
          "output_type": "stream",
          "name": "stdout",
          "text": [
            "Parameters of the best solution : [0 4 6 6 2 3 4 2 3 0]\n",
            "Fitness value of the best solution = 0.24999993750001567\n",
            "Index of the best solution : 0\n",
            "Predicted output based on the best solution : pow(x,0)+pow(x,4)+pow(x,0)+x+pow(x,3)+pow(x,2)\n"
          ]
        },
        {
          "output_type": "display_data",
          "data": {
            "image/png": "[encoded data removed]",
            "text/plain": [
              "<Figure size 432x288 with 1 Axes>"
            ]
          },
          "metadata": {
            "needs_background": "light"
          }
        }
      ],
      "source": [
        "\n",
        "def on_generation(ga_instance):\n",
        "    global last_fitness\n",
        "    if (ga_instance.generations_completed % 25) == 0:\n",
        "      print(\"Generation = {generation}\".format(generation=ga_instance.generations_completed))\n",
        "      print(\"Fitness    = {fitness}\".format(fitness=ga_instance.best_solution(pop_fitness=ga_instance.last_generation_fitness)[1]))\n",
        "      print(\"Change     = {change}\".format(change=ga_instance.best_solution(pop_fitness=ga_instance.last_generation_fitness)[1] - last_fitness))\n",
        "      last_fitness = ga_instance.best_solution(pop_fitness=ga_instance.last_generation_fitness)[1]\n",
        "\n",
        "ga_instance = pygad.GA(num_generations=num_generations,\n",
        "                       num_parents_mating=num_parents_mating,\n",
        "                       sol_per_pop=sol_per_pop,\n",
        "                       num_genes=num_genes,\n",
        "                       gene_type=int,\n",
        "                       gene_space=range(0,20),\n",
        "                       fitness_func=fitness_func,\n",
        "                       on_generation=on_generation)\n",
        "\n",
        "# Running the GA to optimize the parameters of the function.\n",
        "ga_instance.run()\n",
        "\n",
        "ga_instance.plot_fitness()\n",
        "\n",
        "# Returning the details of the best solution.\n",
        "solution, solution_fitness, solution_idx = ga_instance.best_solution(ga_instance.last_generation_fitness)\n",
        "print(\"Parameters of the best solution : {solution}\".format(solution=solution))\n",
        "print(\"Fitness value of the best solution = {solution_fitness}\".format(solution_fitness=solution_fitness))\n",
        "print(\"Index of the best solution : {solution_idx}\".format(solution_idx=solution_idx))\n",
        "\n",
        "prediction = gen_from_vec(g_dict, \"expr\", solution)\n",
        "print(\"Predicted output based on the best solution : {prediction}\".format(prediction=prediction))\n",
        "fig = plt.figure()\n",
        "plt.plot(rng, tgt, '-')\n",
        "plt.plot(rng, numpy.array([eval(prediction) for x in rng]), '--')\n",
        "plt.show()"
      ]
    },
    {
      "cell_type": "code",
      "source": [
        ""
      ],
      "metadata": {
        "id": "_wZRiNdHKwHa"
      },
      "execution_count": 84,
      "outputs": []
    }
  ]
}